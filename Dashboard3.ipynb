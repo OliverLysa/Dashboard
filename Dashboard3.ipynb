{
 "cells": [
  {
   "cell_type": "code",
   "execution_count": 1,
   "id": "02bae0af",
   "metadata": {},
   "outputs": [],
   "source": [
    "#!/usr/bin/env python\n",
    "# -*- coding: utf-8 -*-\n",
    "\n",
    "import warnings\n",
    "\n",
    "warnings.simplefilter(action='ignore', category=FutureWarning)\n",
    "warnings.simplefilter(action='ignore', category=DeprecationWarning)"
   ]
  },
  {
   "cell_type": "code",
   "execution_count": 2,
   "id": "042395d0",
   "metadata": {},
   "outputs": [],
   "source": [
    "#********************************************************************************\n",
    "# Import libraries\n",
    "#********************************************************************************\n",
    "\n",
    "\"\"\"\n",
    "Import libraries from which to call functions. These are the R equivalent of packages\n",
    "Libraries need to be installed first within the terminal using e.g. 'pip install dash'. Note that this should be\n",
    "a different terminal to that displaying the jupyter notebook outputs\n",
    "\"\"\"\n",
    "\n",
    "import numpy as np # Library for data analysis\n",
    "import pandas as pd  # library for data analysis which can be called as 'pd'\n",
    "import plotly.express as px # Library for data visualisation\n",
    "import plotly.graph_objects as go\n",
    "import dash_bootstrap_components as dbc\n",
    "import requests  # library to handle requests\n",
    "import dash # Library to generate dashboard\n",
    "import traceback\n",
    "from jupyter_dash import JupyterDash # Library to generate dashboard\n",
    "from dash import dcc # Components for generating dashboard\n",
    "from dash import html # Components for generating dashboard\n",
    "from dash.dependencies import Input, Output # Components for generating dashboard\n"
   ]
  },
  {
   "cell_type": "markdown",
   "id": "9f2d6d0b",
   "metadata": {},
   "source": [
    "## Importing Data"
   ]
  },
  {
   "cell_type": "code",
   "execution_count": 3,
   "id": "17ad78f3",
   "metadata": {},
   "outputs": [],
   "source": [
    "#********************************************************************************\n",
    "# Import data\n",
    "#********************************************************************************\n",
    "\n",
    "# Disable scientific notation\n",
    "pd.set_option('display.float_format', lambda x: '%.5f' % x)\n",
    "\n",
    "\"\"\"\n",
    "Define functions to import data sheet by sheet from the excel\n",
    "Using a try block lets you test a block of code for errors or 'exceptions'\n",
    "If the try block raises an error, the except block will be executed\n",
    "Without the try block, there is a risk of more complex programmes crashing and errors resulting\n",
    "\"\"\"\n",
    "\n",
    "# Import data sheet for product identifier, lifespan information, mass information and source\n",
    "\n",
    "def import_product_data(path):\n",
    "    \"\"\"\n",
    "    :return:\n",
    "    \"\"\"\n",
    "    try:\n",
    "        # List of fields to retain from the imported file, with those not listed to be dropped\n",
    "        fields = ['product_category_2', \n",
    "                  'PRODCOM',\n",
    "                  'HS6/CN6',\n",
    "                  'EoL_lower_yr',\n",
    "                  'EoL_upper_yr',\n",
    "                  'EoL_average_yr',\n",
    "                  'Mass_lower_kg',\n",
    "                  'Mass_upper_kg',\n",
    "                  'Mass_average_kg',\n",
    "                  'Source',\n",
    "                  'Source URL']\n",
    "\n",
    "        # Read in the data file while keeping only selected fields\n",
    "        Product_data = pd.read_excel(path, sheet_name = \"Lookup\", usecols=fields)\n",
    "\n",
    "        # Clear column headings of spaces and anything after brackets/parenthesis to make calling them easier\n",
    "        Product_data.columns = Product_data.columns.str.replace(' ', '')\n",
    "        \n",
    "        # Filter to products in the product category 2 column\n",
    "        Product_data = Product_data[Product_data.Source != 'Open_repair']\n",
    "        \n",
    "        return Product_data\n",
    "    except Exception as e:\n",
    "        print(\"Exception in import_product_data: {}\".format(str(e)))\n",
    "        print(traceback.format_exc())\n",
    "\n",
    "# Import flow \n",
    "\n",
    "def import_flow_data(path):\n",
    "    \"\"\"\n",
    "    :return:\n",
    "    \"\"\"\n",
    "    try:\n",
    "        # Read in the data file and sheet\n",
    "        Product_flows = pd.read_excel(path, sheet_name = \"Flows\")\n",
    "        \n",
    "        # Filter to number of items in the indicator column\n",
    "        filter_list_flow_indicator = ['Volume (Number of items)']\n",
    "        Product_flows = Product_flows[Product_flows.Indicator.isin(filter_list_flow_indicator)]\n",
    "        \n",
    "        return Product_flows\n",
    "    except Exception as e:\n",
    "        print(\"Exception in import_product_data: {}\".format(str(e)))\n",
    "        print(traceback.format_exc())\n",
    "\n",
    "# Import product composition data for treemap graph\n",
    "        \n",
    "def import_composition_data(path):\n",
    "    \"\"\"\n",
    "    :return:\n",
    "    \"\"\"\n",
    "    try:\n",
    "        # Read in the data file\n",
    "        Composition_data = pd.read_excel(path, sheet_name = \"Composition\")\n",
    "        return Composition_data\n",
    "    except Exception as e:\n",
    "        print(\"Exception in import_product_data: {}\".format(str(e)))\n",
    "        print(traceback.format_exc())\n",
    "        \n",
    "# Import all data above      \n",
    "        \n",
    "def import_data(path_to_file):\n",
    "    \"\"\"\n",
    "    This functions combines the three functions above\n",
    "    :return: outputs of the above import data functions as dataframes\n",
    "    \"\"\"\n",
    "    return import_composition_data(path_to_file), import_product_data(path_to_file), import_flow_data(path_to_file) \n",
    "\n",
    "composition_data, product_data, flow_data = import_data(\"Product dataset.xlsx\")\n",
    "\n",
    "# Define products list\n",
    "\n",
    "def get_products_list(product_data, flow_data):\n",
    "    \"\"\"\n",
    "    This functions combines product data and flow data.\n",
    "    It takes all the unique products from product data and keeps only the ones where flow data is available\n",
    "    :return: list of products\n",
    "    \"\"\"\n",
    "    list_products = product_data[\"product_category_2\"].unique() # Take all the unique products from product data\n",
    "    list_flow = flow_data[\"Product\"].unique() # Take all the unique products from flow data\n",
    "    \n",
    "    return list(set(list_products) & set(list_flow))"
   ]
  },
  {
   "cell_type": "code",
   "execution_count": 4,
   "id": "a26c866b",
   "metadata": {},
   "outputs": [],
   "source": [
    "margins = dict(\n",
    "    l=10,\n",
    "    r=10,\n",
    "    b=30,\n",
    "    t=30)"
   ]
  },
  {
   "cell_type": "markdown",
   "id": "66e34dba",
   "metadata": {},
   "source": [
    "## Sidebar"
   ]
  },
  {
   "cell_type": "code",
   "execution_count": 5,
   "id": "02e356fd",
   "metadata": {},
   "outputs": [],
   "source": [
    "# *******************************************************************************\n",
    "# Define Sidebar/Navbar\n",
    "#********************************************************************************\n",
    "\n",
    "# Set Navbar options \n",
    "\n",
    "NAVBAR_OBJECTS_MARGIN = \"30px\"\n",
    "\n",
    "# Defining three attributes for the navbar\n",
    "SIDEBAR_STYLE = {\n",
    "    \"position\": \"fixed\",\n",
    "    \"top\": 0,\n",
    "    \"left\": 0,\n",
    "    \"bottom\": 0,\n",
    "    \"width\": \"16rem\",\n",
    "    \"padding\": \"2rem 1rem\",\n",
    "    \"background-color\": \"#f8f9fa\",\n",
    "}\n",
    "\n",
    "# Define Sidebar Objects\n",
    "\n",
    "# Drop down for product selection. \n",
    "navbar_product_dropdown = dcc.Dropdown(get_products_list(product_data, flow_data), \n",
    "                                       'Laptop', \n",
    "                                       id='navbar-product-dropdown', \n",
    "                                       style={\"margin-bottom\": \"30px\"})\n",
    "\n",
    "# Slider for lifespan selection\n",
    "navbar_lifespan_slider = dcc.Slider(min=-40,\n",
    "                                    max=40,\n",
    "                                    step=20,\n",
    "                                    value=0,\n",
    "                                    id='navbar-lifespan-slider',\n",
    "                                    marks={\n",
    "                                        i:str(i) + \"%\" for i in range(-40,41,20)\n",
    "                                    })\n",
    "\n",
    "# Slider for lifespan selection\n",
    "navbar_interestwindow_slider = dcc.RangeSlider(min=2010, \n",
    "                                          max=2050, \n",
    "                                          step=5, \n",
    "                                          value=[2010,2050], \n",
    "                                          id='navbar-interestwindow-slider',\n",
    "                                          marks={\n",
    "                                            i:\"'\"+str(i)[2:] for i in range(2010, 2051, 5) \n",
    "                                          })\n",
    "\n",
    "# Adding the sidebar objects to the sidebar\n",
    "sidebar = html.Div(\n",
    "    [\n",
    "        html.H1(\"CE-Hub Product Datahub\", className=\"display-4\"),\n",
    "        html.Hr(),\n",
    "        dbc.Nav(\n",
    "            [\n",
    "               html.H6(\"Product Selector\"),\n",
    "               navbar_product_dropdown,\n",
    "                \n",
    "               html.H6(\"Lifespan Input Slider\"),\n",
    "               navbar_lifespan_slider,\n",
    "               html.Div(style={\"margin-bottom\": NAVBAR_OBJECTS_MARGIN}),\n",
    "                \n",
    "               html.H6(\"Window of Interest\"),\n",
    "               navbar_interestwindow_slider\n",
    "            ],\n",
    "            vertical=True,\n",
    "            pills=True,\n",
    "        ),\n",
    "    ],\n",
    "    style=SIDEBAR_STYLE,\n",
    ")\n"
   ]
  },
  {
   "cell_type": "markdown",
   "id": "d3a7248c",
   "metadata": {},
   "source": [
    "## Main App"
   ]
  },
  {
   "cell_type": "code",
   "execution_count": 6,
   "id": "deb2bcc6-8fb0-4336-9d4a-c430b8bcea03",
   "metadata": {},
   "outputs": [],
   "source": [
    "def get_eol(product):\n",
    "    \"\"\"\n",
    "    given a product, return the lower, upper and average End of Life\n",
    "    \"\"\"\n",
    "    data = product_data.loc[product_data[\"product_category_2\"] == product]\n",
    "\n",
    "    return data[\"EoL_lower_yr\"], data[\"EoL_upper_yr\"], data[\"EoL_average_yr\"]\n",
    "\n",
    "def get_flow(product, var, window:list):\n",
    "    \"\"\"\n",
    "    This functions generates the barplot from flow data and cummulative values in a given time window\n",
    "    :return: Bar plot and cummulative value \n",
    "    \"\"\"\n",
    "    \n",
    "    # Select the data from flow data only for a given product and variable (import or domestic)\n",
    "    ## old: data = flow_data.loc[(flow_data[\"Product\"] == product) & (flow_data[\"Variable\"] == var)] -> the column 'Variable' didn't exist in the excel sheet probably because the column ##\n",
    "    ## name was changed from Variable to Flow ##\n",
    "    data = flow_data.loc[(flow_data[\"Product\"] == product) & (flow_data[\"Flow\"] == var)]\n",
    "\n",
    "    # Filter out years depending on the time window\n",
    "    years = data.columns[3:] # discard the first 3 columns as only the one's after that contain the relevant information\n",
    "\n",
    "    print(years)\n",
    "    y_all = data[years] # calculate the cummulative sum\n",
    "\n",
    "\n",
    "    ## converted year to an int ## \n",
    "    ## old: years = [year for year in years if year >= window[0] and year <= window[1]] -> doesn't work since year is a string and window[0] an int ##\n",
    "    years = [year for year in years if int(year) >= window[0] and int(year) <= window[1]] # filter out the years according to the window\n",
    "    \n",
    "\n",
    "\n",
    "    # Define the plots\n",
    "    if years == []:\n",
    "        return go.Figure(), \"NaN\" # return an empty figure if the window doesn't contain any data points.\n",
    "    \n",
    "    # Plot only for the years of data defined in the window\n",
    "    y_filtered = y_all[years].values[0] # get only the values for the years in the window. The cummulative sum still starts at the first year (2010)\n",
    "    flow_fig = go.Figure(data=go.Bar(\n",
    "        x=years,\n",
    "        y= (y_filtered/1000000).round(1)\n",
    "    ))\n",
    "    \n",
    "    # Update the layout according to the requirements\n",
    "    flow_fig.update_layout(\n",
    "        title=\"Number of goods imported by year\",\n",
    "        yaxis_title=\"Number of Items imported (in Millions)\",\n",
    "        xaxis_title=\"Year\",\n",
    "        autosize=False,\n",
    "        width=800,\n",
    "        height=500,\n",
    "    )\n",
    "\n",
    "    return flow_fig, [html.P(\"Cummulated Number of products: \") , html.Strong(str(round(sum(y_filtered)/1000000, 1))), html.Strong('M '), f\"as of {max(years)}\"]\n",
    "\n",
    "def get_treemap(product):\n",
    "    \"\"\"\n",
    "    buillds a treemap out of the composition data given the product name (e.g. 'Laptop')\n",
    "    :return: The treemap plotly object\n",
    "    \"\"\"\n",
    "    \n",
    "    # Filtering the composition data for selected product from dropdown\n",
    "    data = composition_data.loc[composition_data[\"Product\"] == product] \n",
    "    data[\"Percentage\"] = data[\"Percentage\"]*100 # Multiplies the percentage value by 100 to compensate for the % symbol after values in the excel sheet\n",
    "    \n",
    "    # Defining the treemap to be generated from the data filtered above for the selected product\n",
    "    tree_fig = px.treemap(\n",
    "        data_frame=data, # The filtered data\n",
    "        parents=\"Product\", # The parent at which level the tree data has to be considered\n",
    "        names=\"Material\", # Name of the blocks in the treemap\n",
    "        values=\"Percentage\", # The values on whose basis the size of the box will be decided\n",
    "        title=\"Product composition\", # The title of the treemap\n",
    "        )\n",
    "    \n",
    "    tree_fig.data[0].hovertemplate = '%{label}<br>%{value}%'\n",
    "    \n",
    "    # Updating the layout of the plot to make it fit within requirements\n",
    "    tree_fig.update_layout(\n",
    "        margin=margins,\n",
    "        autosize=False,\n",
    "        \n",
    "        ## changed figure width from 800 to 500 so that the figure doesn't go too far to the right. ##\n",
    "        width=500,\n",
    "        \n",
    "        \n",
    "        height=300,\n",
    "    )\n",
    "    \n",
    "    return tree_fig"
   ]
  },
  {
   "cell_type": "code",
   "execution_count": 7,
   "id": "24b4d1bd",
   "metadata": {},
   "outputs": [],
   "source": [
    "fig = go.Figure()"
   ]
  },
  {
   "cell_type": "code",
   "execution_count": 9,
   "id": "9fbb4b3e",
   "metadata": {},
   "outputs": [
    {
     "name": "stdout",
     "output_type": "stream",
     "text": [
      "Dash app running on http://127.0.0.1:8050/\n",
      "Index(['2010', '2011', '2012', '2013', '2014', '2015', '2016', '2017', '2018',\n",
      "       '2019', '2020', '2021'],\n",
      "      dtype='object')\n"
     ]
    },
    {
     "name": "stderr",
     "output_type": "stream",
     "text": [
      "/var/folders/29/7mzwnftx081d7bt7nt299sch0000gn/T/ipykernel_16551/2248562872.py:64: SettingWithCopyWarning:\n",
      "\n",
      "\n",
      "A value is trying to be set on a copy of a slice from a DataFrame.\n",
      "Try using .loc[row_indexer,col_indexer] = value instead\n",
      "\n",
      "See the caveats in the documentation: https://pandas.pydata.org/pandas-docs/stable/user_guide/indexing.html#returning-a-view-versus-a-copy\n",
      "\n"
     ]
    },
    {
     "name": "stdout",
     "output_type": "stream",
     "text": [
      "Index(['2010', '2011', '2012', '2013', '2014', '2015', '2016', '2017', '2018',\n",
      "       '2019', '2020', '2021'],\n",
      "      dtype='object')\n"
     ]
    },
    {
     "name": "stderr",
     "output_type": "stream",
     "text": [
      "/var/folders/29/7mzwnftx081d7bt7nt299sch0000gn/T/ipykernel_16551/2248562872.py:64: SettingWithCopyWarning:\n",
      "\n",
      "\n",
      "A value is trying to be set on a copy of a slice from a DataFrame.\n",
      "Try using .loc[row_indexer,col_indexer] = value instead\n",
      "\n",
      "See the caveats in the documentation: https://pandas.pydata.org/pandas-docs/stable/user_guide/indexing.html#returning-a-view-versus-a-copy\n",
      "\n"
     ]
    },
    {
     "name": "stdout",
     "output_type": "stream",
     "text": [
      "Index(['2010', '2011', '2012', '2013', '2014', '2015', '2016', '2017', '2018',\n",
      "       '2019', '2020', '2021'],\n",
      "      dtype='object')\n"
     ]
    },
    {
     "name": "stderr",
     "output_type": "stream",
     "text": [
      "/var/folders/29/7mzwnftx081d7bt7nt299sch0000gn/T/ipykernel_16551/2248562872.py:64: SettingWithCopyWarning:\n",
      "\n",
      "\n",
      "A value is trying to be set on a copy of a slice from a DataFrame.\n",
      "Try using .loc[row_indexer,col_indexer] = value instead\n",
      "\n",
      "See the caveats in the documentation: https://pandas.pydata.org/pandas-docs/stable/user_guide/indexing.html#returning-a-view-versus-a-copy\n",
      "\n"
     ]
    },
    {
     "name": "stdout",
     "output_type": "stream",
     "text": [
      "Index(['2010', '2011', '2012', '2013', '2014', '2015', '2016', '2017', '2018',\n",
      "       '2019', '2020', '2021'],\n",
      "      dtype='object')\n"
     ]
    },
    {
     "name": "stderr",
     "output_type": "stream",
     "text": [
      "/var/folders/29/7mzwnftx081d7bt7nt299sch0000gn/T/ipykernel_16551/2248562872.py:64: SettingWithCopyWarning:\n",
      "\n",
      "\n",
      "A value is trying to be set on a copy of a slice from a DataFrame.\n",
      "Try using .loc[row_indexer,col_indexer] = value instead\n",
      "\n",
      "See the caveats in the documentation: https://pandas.pydata.org/pandas-docs/stable/user_guide/indexing.html#returning-a-view-versus-a-copy\n",
      "\n"
     ]
    },
    {
     "name": "stdout",
     "output_type": "stream",
     "text": [
      "Index(['2010', '2011', '2012', '2013', '2014', '2015', '2016', '2017', '2018',\n",
      "       '2019', '2020', '2021'],\n",
      "      dtype='object')\n"
     ]
    },
    {
     "name": "stderr",
     "output_type": "stream",
     "text": [
      "/var/folders/29/7mzwnftx081d7bt7nt299sch0000gn/T/ipykernel_16551/2248562872.py:64: SettingWithCopyWarning:\n",
      "\n",
      "\n",
      "A value is trying to be set on a copy of a slice from a DataFrame.\n",
      "Try using .loc[row_indexer,col_indexer] = value instead\n",
      "\n",
      "See the caveats in the documentation: https://pandas.pydata.org/pandas-docs/stable/user_guide/indexing.html#returning-a-view-versus-a-copy\n",
      "\n"
     ]
    },
    {
     "name": "stdout",
     "output_type": "stream",
     "text": [
      "Index(['2010', '2011', '2012', '2013', '2014', '2015', '2016', '2017', '2018',\n",
      "       '2019', '2020', '2021'],\n",
      "      dtype='object')\n"
     ]
    },
    {
     "name": "stderr",
     "output_type": "stream",
     "text": [
      "/var/folders/29/7mzwnftx081d7bt7nt299sch0000gn/T/ipykernel_16551/2248562872.py:64: SettingWithCopyWarning:\n",
      "\n",
      "\n",
      "A value is trying to be set on a copy of a slice from a DataFrame.\n",
      "Try using .loc[row_indexer,col_indexer] = value instead\n",
      "\n",
      "See the caveats in the documentation: https://pandas.pydata.org/pandas-docs/stable/user_guide/indexing.html#returning-a-view-versus-a-copy\n",
      "\n"
     ]
    },
    {
     "name": "stdout",
     "output_type": "stream",
     "text": [
      "Index(['2010', '2011', '2012', '2013', '2014', '2015', '2016', '2017', '2018',\n",
      "       '2019', '2020', '2021'],\n",
      "      dtype='object')\n"
     ]
    },
    {
     "name": "stderr",
     "output_type": "stream",
     "text": [
      "/var/folders/29/7mzwnftx081d7bt7nt299sch0000gn/T/ipykernel_16551/2248562872.py:64: SettingWithCopyWarning:\n",
      "\n",
      "\n",
      "A value is trying to be set on a copy of a slice from a DataFrame.\n",
      "Try using .loc[row_indexer,col_indexer] = value instead\n",
      "\n",
      "See the caveats in the documentation: https://pandas.pydata.org/pandas-docs/stable/user_guide/indexing.html#returning-a-view-versus-a-copy\n",
      "\n"
     ]
    },
    {
     "name": "stdout",
     "output_type": "stream",
     "text": [
      "Index(['2010', '2011', '2012', '2013', '2014', '2015', '2016', '2017', '2018',\n",
      "       '2019', '2020', '2021'],\n",
      "      dtype='object')\n"
     ]
    },
    {
     "name": "stderr",
     "output_type": "stream",
     "text": [
      "/var/folders/29/7mzwnftx081d7bt7nt299sch0000gn/T/ipykernel_16551/2248562872.py:64: SettingWithCopyWarning:\n",
      "\n",
      "\n",
      "A value is trying to be set on a copy of a slice from a DataFrame.\n",
      "Try using .loc[row_indexer,col_indexer] = value instead\n",
      "\n",
      "See the caveats in the documentation: https://pandas.pydata.org/pandas-docs/stable/user_guide/indexing.html#returning-a-view-versus-a-copy\n",
      "\n"
     ]
    },
    {
     "name": "stdout",
     "output_type": "stream",
     "text": [
      "Index(['2010', '2011', '2012', '2013', '2014', '2015', '2016', '2017', '2018',\n",
      "       '2019', '2020', '2021'],\n",
      "      dtype='object')\n"
     ]
    },
    {
     "name": "stderr",
     "output_type": "stream",
     "text": [
      "/var/folders/29/7mzwnftx081d7bt7nt299sch0000gn/T/ipykernel_16551/2248562872.py:64: SettingWithCopyWarning:\n",
      "\n",
      "\n",
      "A value is trying to be set on a copy of a slice from a DataFrame.\n",
      "Try using .loc[row_indexer,col_indexer] = value instead\n",
      "\n",
      "See the caveats in the documentation: https://pandas.pydata.org/pandas-docs/stable/user_guide/indexing.html#returning-a-view-versus-a-copy\n",
      "\n"
     ]
    },
    {
     "name": "stdout",
     "output_type": "stream",
     "text": [
      "Index(['2010', '2011', '2012', '2013', '2014', '2015', '2016', '2017', '2018',\n",
      "       '2019', '2020', '2021'],\n",
      "      dtype='object')\n"
     ]
    },
    {
     "name": "stderr",
     "output_type": "stream",
     "text": [
      "/var/folders/29/7mzwnftx081d7bt7nt299sch0000gn/T/ipykernel_16551/2248562872.py:64: SettingWithCopyWarning:\n",
      "\n",
      "\n",
      "A value is trying to be set on a copy of a slice from a DataFrame.\n",
      "Try using .loc[row_indexer,col_indexer] = value instead\n",
      "\n",
      "See the caveats in the documentation: https://pandas.pydata.org/pandas-docs/stable/user_guide/indexing.html#returning-a-view-versus-a-copy\n",
      "\n"
     ]
    },
    {
     "name": "stdout",
     "output_type": "stream",
     "text": [
      "Index(['2010', '2011', '2012', '2013', '2014', '2015', '2016', '2017', '2018',\n",
      "       '2019', '2020', '2021'],\n",
      "      dtype='object')\n"
     ]
    },
    {
     "name": "stderr",
     "output_type": "stream",
     "text": [
      "/var/folders/29/7mzwnftx081d7bt7nt299sch0000gn/T/ipykernel_16551/2248562872.py:64: SettingWithCopyWarning:\n",
      "\n",
      "\n",
      "A value is trying to be set on a copy of a slice from a DataFrame.\n",
      "Try using .loc[row_indexer,col_indexer] = value instead\n",
      "\n",
      "See the caveats in the documentation: https://pandas.pydata.org/pandas-docs/stable/user_guide/indexing.html#returning-a-view-versus-a-copy\n",
      "\n"
     ]
    },
    {
     "name": "stdout",
     "output_type": "stream",
     "text": [
      "Index(['2010', '2011', '2012', '2013', '2014', '2015', '2016', '2017', '2018',\n",
      "       '2019', '2020', '2021'],\n",
      "      dtype='object')\n"
     ]
    },
    {
     "name": "stderr",
     "output_type": "stream",
     "text": [
      "/var/folders/29/7mzwnftx081d7bt7nt299sch0000gn/T/ipykernel_16551/2248562872.py:64: SettingWithCopyWarning:\n",
      "\n",
      "\n",
      "A value is trying to be set on a copy of a slice from a DataFrame.\n",
      "Try using .loc[row_indexer,col_indexer] = value instead\n",
      "\n",
      "See the caveats in the documentation: https://pandas.pydata.org/pandas-docs/stable/user_guide/indexing.html#returning-a-view-versus-a-copy\n",
      "\n"
     ]
    },
    {
     "name": "stdout",
     "output_type": "stream",
     "text": [
      "Index(['2010', '2011', '2012', '2013', '2014', '2015', '2016', '2017', '2018',\n",
      "       '2019', '2020', '2021'],\n",
      "      dtype='object')\n"
     ]
    },
    {
     "name": "stderr",
     "output_type": "stream",
     "text": [
      "/var/folders/29/7mzwnftx081d7bt7nt299sch0000gn/T/ipykernel_16551/2248562872.py:64: SettingWithCopyWarning:\n",
      "\n",
      "\n",
      "A value is trying to be set on a copy of a slice from a DataFrame.\n",
      "Try using .loc[row_indexer,col_indexer] = value instead\n",
      "\n",
      "See the caveats in the documentation: https://pandas.pydata.org/pandas-docs/stable/user_guide/indexing.html#returning-a-view-versus-a-copy\n",
      "\n"
     ]
    },
    {
     "name": "stdout",
     "output_type": "stream",
     "text": [
      "Index(['2010', '2011', '2012', '2013', '2014', '2015', '2016', '2017', '2018',\n",
      "       '2019', '2020', '2021'],\n",
      "      dtype='object')\n"
     ]
    },
    {
     "name": "stderr",
     "output_type": "stream",
     "text": [
      "/var/folders/29/7mzwnftx081d7bt7nt299sch0000gn/T/ipykernel_16551/2248562872.py:64: SettingWithCopyWarning:\n",
      "\n",
      "\n",
      "A value is trying to be set on a copy of a slice from a DataFrame.\n",
      "Try using .loc[row_indexer,col_indexer] = value instead\n",
      "\n",
      "See the caveats in the documentation: https://pandas.pydata.org/pandas-docs/stable/user_guide/indexing.html#returning-a-view-versus-a-copy\n",
      "\n"
     ]
    },
    {
     "name": "stdout",
     "output_type": "stream",
     "text": [
      "Index(['2010', '2011', '2012', '2013', '2014', '2015', '2016', '2017', '2018',\n",
      "       '2019', '2020', '2021'],\n",
      "      dtype='object')\n"
     ]
    },
    {
     "name": "stderr",
     "output_type": "stream",
     "text": [
      "/var/folders/29/7mzwnftx081d7bt7nt299sch0000gn/T/ipykernel_16551/2248562872.py:64: SettingWithCopyWarning:\n",
      "\n",
      "\n",
      "A value is trying to be set on a copy of a slice from a DataFrame.\n",
      "Try using .loc[row_indexer,col_indexer] = value instead\n",
      "\n",
      "See the caveats in the documentation: https://pandas.pydata.org/pandas-docs/stable/user_guide/indexing.html#returning-a-view-versus-a-copy\n",
      "\n"
     ]
    },
    {
     "name": "stdout",
     "output_type": "stream",
     "text": [
      "Index(['2010', '2011', '2012', '2013', '2014', '2015', '2016', '2017', '2018',\n",
      "       '2019', '2020', '2021'],\n",
      "      dtype='object')\n"
     ]
    },
    {
     "name": "stderr",
     "output_type": "stream",
     "text": [
      "/var/folders/29/7mzwnftx081d7bt7nt299sch0000gn/T/ipykernel_16551/2248562872.py:64: SettingWithCopyWarning:\n",
      "\n",
      "\n",
      "A value is trying to be set on a copy of a slice from a DataFrame.\n",
      "Try using .loc[row_indexer,col_indexer] = value instead\n",
      "\n",
      "See the caveats in the documentation: https://pandas.pydata.org/pandas-docs/stable/user_guide/indexing.html#returning-a-view-versus-a-copy\n",
      "\n"
     ]
    },
    {
     "name": "stdout",
     "output_type": "stream",
     "text": [
      "Index(['2010', '2011', '2012', '2013', '2014', '2015', '2016', '2017', '2018',\n",
      "       '2019', '2020', '2021'],\n",
      "      dtype='object')\n"
     ]
    },
    {
     "name": "stderr",
     "output_type": "stream",
     "text": [
      "/var/folders/29/7mzwnftx081d7bt7nt299sch0000gn/T/ipykernel_16551/2248562872.py:64: SettingWithCopyWarning:\n",
      "\n",
      "\n",
      "A value is trying to be set on a copy of a slice from a DataFrame.\n",
      "Try using .loc[row_indexer,col_indexer] = value instead\n",
      "\n",
      "See the caveats in the documentation: https://pandas.pydata.org/pandas-docs/stable/user_guide/indexing.html#returning-a-view-versus-a-copy\n",
      "\n"
     ]
    },
    {
     "name": "stdout",
     "output_type": "stream",
     "text": [
      "Index(['2010', '2011', '2012', '2013', '2014', '2015', '2016', '2017', '2018',\n",
      "       '2019', '2020', '2021'],\n",
      "      dtype='object')\n"
     ]
    },
    {
     "name": "stderr",
     "output_type": "stream",
     "text": [
      "/var/folders/29/7mzwnftx081d7bt7nt299sch0000gn/T/ipykernel_16551/2248562872.py:64: SettingWithCopyWarning:\n",
      "\n",
      "\n",
      "A value is trying to be set on a copy of a slice from a DataFrame.\n",
      "Try using .loc[row_indexer,col_indexer] = value instead\n",
      "\n",
      "See the caveats in the documentation: https://pandas.pydata.org/pandas-docs/stable/user_guide/indexing.html#returning-a-view-versus-a-copy\n",
      "\n"
     ]
    },
    {
     "name": "stdout",
     "output_type": "stream",
     "text": [
      "Index(['2010', '2011', '2012', '2013', '2014', '2015', '2016', '2017', '2018',\n",
      "       '2019', '2020', '2021'],\n",
      "      dtype='object')\n"
     ]
    },
    {
     "name": "stderr",
     "output_type": "stream",
     "text": [
      "/var/folders/29/7mzwnftx081d7bt7nt299sch0000gn/T/ipykernel_16551/2248562872.py:64: SettingWithCopyWarning:\n",
      "\n",
      "\n",
      "A value is trying to be set on a copy of a slice from a DataFrame.\n",
      "Try using .loc[row_indexer,col_indexer] = value instead\n",
      "\n",
      "See the caveats in the documentation: https://pandas.pydata.org/pandas-docs/stable/user_guide/indexing.html#returning-a-view-versus-a-copy\n",
      "\n"
     ]
    },
    {
     "name": "stdout",
     "output_type": "stream",
     "text": [
      "Index(['2010', '2011', '2012', '2013', '2014', '2015', '2016', '2017', '2018',\n",
      "       '2019', '2020', '2021'],\n",
      "      dtype='object')\n"
     ]
    },
    {
     "name": "stderr",
     "output_type": "stream",
     "text": [
      "/var/folders/29/7mzwnftx081d7bt7nt299sch0000gn/T/ipykernel_16551/2248562872.py:64: SettingWithCopyWarning:\n",
      "\n",
      "\n",
      "A value is trying to be set on a copy of a slice from a DataFrame.\n",
      "Try using .loc[row_indexer,col_indexer] = value instead\n",
      "\n",
      "See the caveats in the documentation: https://pandas.pydata.org/pandas-docs/stable/user_guide/indexing.html#returning-a-view-versus-a-copy\n",
      "\n"
     ]
    },
    {
     "name": "stdout",
     "output_type": "stream",
     "text": [
      "Index(['2010', '2011', '2012', '2013', '2014', '2015', '2016', '2017', '2018',\n",
      "       '2019', '2020', '2021'],\n",
      "      dtype='object')\n"
     ]
    },
    {
     "name": "stderr",
     "output_type": "stream",
     "text": [
      "/var/folders/29/7mzwnftx081d7bt7nt299sch0000gn/T/ipykernel_16551/2248562872.py:64: SettingWithCopyWarning:\n",
      "\n",
      "\n",
      "A value is trying to be set on a copy of a slice from a DataFrame.\n",
      "Try using .loc[row_indexer,col_indexer] = value instead\n",
      "\n",
      "See the caveats in the documentation: https://pandas.pydata.org/pandas-docs/stable/user_guide/indexing.html#returning-a-view-versus-a-copy\n",
      "\n"
     ]
    },
    {
     "name": "stdout",
     "output_type": "stream",
     "text": [
      "Index(['2010', '2011', '2012', '2013', '2014', '2015', '2016', '2017', '2018',\n",
      "       '2019', '2020', '2021'],\n",
      "      dtype='object')\n"
     ]
    },
    {
     "name": "stderr",
     "output_type": "stream",
     "text": [
      "/var/folders/29/7mzwnftx081d7bt7nt299sch0000gn/T/ipykernel_16551/2248562872.py:64: SettingWithCopyWarning:\n",
      "\n",
      "\n",
      "A value is trying to be set on a copy of a slice from a DataFrame.\n",
      "Try using .loc[row_indexer,col_indexer] = value instead\n",
      "\n",
      "See the caveats in the documentation: https://pandas.pydata.org/pandas-docs/stable/user_guide/indexing.html#returning-a-view-versus-a-copy\n",
      "\n"
     ]
    },
    {
     "name": "stdout",
     "output_type": "stream",
     "text": [
      "Index(['2010', '2011', '2012', '2013', '2014', '2015', '2016', '2017', '2018',\n",
      "       '2019', '2020', '2021'],\n",
      "      dtype='object')\n"
     ]
    },
    {
     "name": "stderr",
     "output_type": "stream",
     "text": [
      "/var/folders/29/7mzwnftx081d7bt7nt299sch0000gn/T/ipykernel_16551/2248562872.py:64: SettingWithCopyWarning:\n",
      "\n",
      "\n",
      "A value is trying to be set on a copy of a slice from a DataFrame.\n",
      "Try using .loc[row_indexer,col_indexer] = value instead\n",
      "\n",
      "See the caveats in the documentation: https://pandas.pydata.org/pandas-docs/stable/user_guide/indexing.html#returning-a-view-versus-a-copy\n",
      "\n"
     ]
    },
    {
     "name": "stdout",
     "output_type": "stream",
     "text": [
      "Index(['2010', '2011', '2012', '2013', '2014', '2015', '2016', '2017', '2018',\n",
      "       '2019', '2020', '2021'],\n",
      "      dtype='object')\n"
     ]
    },
    {
     "name": "stderr",
     "output_type": "stream",
     "text": [
      "/var/folders/29/7mzwnftx081d7bt7nt299sch0000gn/T/ipykernel_16551/2248562872.py:64: SettingWithCopyWarning:\n",
      "\n",
      "\n",
      "A value is trying to be set on a copy of a slice from a DataFrame.\n",
      "Try using .loc[row_indexer,col_indexer] = value instead\n",
      "\n",
      "See the caveats in the documentation: https://pandas.pydata.org/pandas-docs/stable/user_guide/indexing.html#returning-a-view-versus-a-copy\n",
      "\n"
     ]
    }
   ],
   "source": [
    "#********************************************************************************\n",
    "# Defining the Layout of the application\n",
    "#********************************************************************************\n",
    "\n",
    "layout = html.Div([\n",
    "    \n",
    "    dbc.Row([\n",
    "        \n",
    "        # Adding the sidebar/navbar\n",
    "        dbc.Col([sidebar], width=2),\n",
    "        \n",
    "        # The section for Tree plot and the EoL values\n",
    "        dbc.Col([\n",
    "        \n",
    "            dbc.Row([\n",
    "                \n",
    "                # Adding tree plot\n",
    "                dbc.Col([\n",
    "                    dcc.Graph(\n",
    "                        id=\"tree-fig\",\n",
    "                        figure=fig),\n",
    "                ], width=6, style={\"border-right\":\"1px black solid\"}),\n",
    "                \n",
    "                \n",
    "                # Adding three EoL values below\n",
    "                dbc.Col([\n",
    "                    dbc.Alert(html.H3(id=\"eol-lower\", style={\"textAlign\":\"center\"})),\n",
    "                ], width=2),\n",
    "\n",
    "                dbc.Col([\n",
    "                    dbc.Alert(html.H3(id=\"eol-upper\", style={\"textAlign\":\"center\"})),\n",
    "                ], width=2),\n",
    "                \n",
    "                dbc.Col([\n",
    "                    dbc.Alert(html.H3(id=\"eol-average\", style={\"textAlign\":\"center\"})),\n",
    "                ], width=2),\n",
    "\n",
    "            ], align=\"center\"),\n",
    "            \n",
    "            html.Div( style={\"border\":\"1px black solid\"}),\n",
    "            \n",
    "            # This section is to add the 3 bar plots and three boxes for their cummulative values\n",
    "            dbc.Row([\n",
    "                dbc.Col([\n",
    "\n",
    "                    dbc.Row([\n",
    "                        # The first plot and its cummulative value\n",
    "                        dbc.Col([\n",
    "                            dcc.Graph(\n",
    "                                id=\"imports-fig\",\n",
    "                                figure=fig) ## Replaced figure=None with the placeholder figure ##\n",
    "\n",
    "                        ], width=8), ## changed column width from 5 to 8. Column widths within a Row should always add up to 12. ## \n",
    "                        \n",
    "                        dbc.Col([\n",
    "                            dbc.Alert(\n",
    "                                html.H3(\n",
    "                                id=\"imports-sum\",\n",
    "                                style={\"textAlign\":\"center\"})\n",
    "                                )\n",
    "                        ], width=4)\n",
    "\n",
    "                    ], align=\"center\"),\n",
    "                    dbc.Row([\n",
    "                        #Second plot and respective value\n",
    "                        dbc.Col([\n",
    "                            dcc.Graph(figure=fig) ## Replaced figure=None with the placeholder figure ##\n",
    "                        ], width=5),\n",
    "                        dbc.Col([\n",
    "                            html.P(\n",
    "                                children=\"val\"\n",
    "                                ),\n",
    "                        ], width=4)\n",
    "\n",
    "                    ], align=\"center\"),\n",
    "                    \n",
    "                    dbc.Row([\n",
    "                        #Third row and it's respective value\n",
    "                        dbc.Col([\n",
    "                            dcc.Graph(figure=fig) ## Replaced figure=None with the placeholder figure ##\n",
    "                        ], width=5),\n",
    "                        dbc.Col([\n",
    "                            html.P(\"val\"),\n",
    "                        ], width=4)\n",
    "\n",
    "                    ], align=\"center\")\n",
    "                ])\n",
    "            ])\n",
    "\n",
    "    ], width=10)\n",
    "    ])\n",
    "])\n",
    "\n",
    "# *******************************************************************************\n",
    "# Application Execution\n",
    "#********************************************************************************\n",
    "\n",
    "# Define the applicartoin and theme\n",
    "app = JupyterDash(__name__, external_stylesheets=[dbc.themes.BOOTSTRAP])\n",
    "app.layout = layout # Add layout to the app\n",
    "\n",
    "\n",
    "# Callback for interactively updating the charts and values\n",
    "@app.callback(\n",
    "    Output(\"eol-lower\", \"children\"), # For the EoL Lower value\n",
    "    Output(\"eol-upper\", \"children\"), # For the EoL Upper value\n",
    "    Output(\"eol-average\", \"children\"), # For the EoL Average value\n",
    "    Output(\"imports-sum\", \"children\"), # For the cummulative sum box\n",
    "    Output(\"tree-fig\", \"figure\"), # For the tree plot\n",
    "    Output(\"imports-fig\", \"figure\"), # For the empty plots\n",
    "    Input('navbar-product-dropdown', \"value\"), # For product dropdown slider\n",
    "    Input('navbar-interestwindow-slider', \"value\") # For Interest of window slider\n",
    "    #Input('navbar-lifespan-slider', \"value\"), # This can be activated when necessary\n",
    ")\n",
    "\n",
    "def update_display(product_selected, window_selected):\n",
    "    \n",
    "    \"\"\"\n",
    "    Based on the callbacks set above, this functions returns updated values when\n",
    "    interaction happens on the dashboard\n",
    "    \"\"\"\n",
    "\n",
    "    eols = [str(i.values[0]) for i in get_eol(product_selected)] # Extract the selected product\n",
    "\n",
    "    fig, total = get_flow(product_selected, \"Imports\", window_selected) # Get the flow chart for the product selected above\n",
    "    \n",
    "    # The returns all objects for new selected product or changed window of interested\n",
    "    return (\n",
    "        \"EoL lower: \" + str(eols[0]), # EoL Upper value\n",
    "        \"EoL upper: \" + str(eols[1]), # EoL Lower value\n",
    "        \"EoL average: \" + str(eols[2]), # EoL average value\n",
    "        total, # Sum of the bar plot\n",
    "        get_treemap(product_selected), # Treemap for composition\n",
    "        fig # The bar plot\n",
    "    )\n",
    "\n",
    "app.run_server(mode='external', port = 8050, dev_tools_ui=True, debug=True,\n",
    "              use_reloader=False, threaded=True)"
   ]
  },
  {
   "cell_type": "code",
   "execution_count": null,
   "id": "190e8b7d",
   "metadata": {},
   "outputs": [],
   "source": []
  },
  {
   "cell_type": "code",
   "execution_count": null,
   "id": "b914f973",
   "metadata": {},
   "outputs": [],
   "source": []
  }
 ],
 "metadata": {
  "kernelspec": {
   "display_name": "Python 3 (ipykernel)",
   "language": "python",
   "name": "python3"
  },
  "language_info": {
   "codemirror_mode": {
    "name": "ipython",
    "version": 3
   },
   "file_extension": ".py",
   "mimetype": "text/x-python",
   "name": "python",
   "nbconvert_exporter": "python",
   "pygments_lexer": "ipython3",
   "version": "3.10.4"
  },
  "vscode": {
   "interpreter": {
    "hash": "8f8cf99212f81ad0c4765861267244807ee1c18364846cdce387b28994a977ba"
   }
  }
 },
 "nbformat": 4,
 "nbformat_minor": 5
}
